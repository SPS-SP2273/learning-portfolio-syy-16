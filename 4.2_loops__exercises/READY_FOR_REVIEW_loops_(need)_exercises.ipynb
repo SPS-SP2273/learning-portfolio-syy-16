{
 "cells": [
  {
   "attachments": {},
   "cell_type": "markdown",
   "id": "123456",
   "metadata": {},
   "source": [
    "<div style=\"text-align:left;font-size:2em\"><span style=\"font-weight:bolder;font-size:1.25em\">SP2273 | Learning Portfolio</span><br><br><span style=\"font-weight:bold;color:darkred\">Loops (Need) Exercises</span></div>"
   ]
  },
  {
   "cell_type": "markdown",
   "id": "1d01f58e",
   "metadata": {},
   "source": [
    "## Exercise 1 "
   ]
  },
  {
   "cell_type": "code",
   "execution_count": 31,
   "id": "2d7a33b0",
   "metadata": {},
   "outputs": [
    {
     "name": "stdout",
     "output_type": "stream",
     "text": [
      "0C = 32.0F\n",
      "5C = 41.0F\n",
      "10C = 50.0F\n",
      "15C = 59.0F\n",
      "20C = 68.0F\n",
      "25C = 77.0F\n",
      "30C = 86.0F\n",
      "35C = 95.0F\n",
      "40C = 104.0F\n",
      "45C = 113.0F\n",
      "50C = 122.0F\n"
     ]
    }
   ],
   "source": [
    "temperatures_celsius = [\n",
    "    0, 5, 10, 15, 20, 25,\n",
    "    30, 35, 40, 45, 50\n",
    "]\n",
    "\n",
    "temperatures_fahrenheit = [(c * 9/5) + 32 for c in temperatures_celsius]\n",
    "\n",
    "for c, f in zip(temperatures_celsius, temperatures_fahrenheit):\n",
    "    print(f'{c}C = {f}F')\n",
    "    n += 1"
   ]
  },
  {
   "cell_type": "markdown",
   "id": "f6c29dd3",
   "metadata": {},
   "source": [
    "## Exercise 2"
   ]
  },
  {
   "cell_type": "code",
   "execution_count": null,
   "id": "39709cef",
   "metadata": {},
   "outputs": [],
   "source": [
    "for numbers in range(0,6):\n",
    "    for numbers_1 in range(0,6):\n",
    "        "
   ]
  }
 ],
 "metadata": {
  "kernelspec": {
   "display_name": "base",
   "language": "python",
   "name": "python3"
  },
  "language_info": {
   "codemirror_mode": {
    "name": "ipython",
    "version": 3
   },
   "file_extension": ".py",
   "mimetype": "text/x-python",
   "name": "python",
   "nbconvert_exporter": "python",
   "pygments_lexer": "ipython3",
   "version": "3.13.5"
  },
  "toc": {
   "base_numbering": 1,
   "nav_menu": {},
   "number_sections": true,
   "sideBar": true,
   "skip_h1_title": false,
   "title_cell": "Table of Contents",
   "title_sidebar": "Contents",
   "toc_cell": false,
   "toc_position": {},
   "toc_section_display": true,
   "toc_window_display": false
  }
 },
 "nbformat": 4,
 "nbformat_minor": 5
}
