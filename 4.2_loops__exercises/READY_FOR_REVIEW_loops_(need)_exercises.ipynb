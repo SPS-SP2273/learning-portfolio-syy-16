{
 "cells": [
  {
   "attachments": {},
   "cell_type": "markdown",
   "id": "123456",
   "metadata": {},
   "source": [
    "<div style=\"text-align:left;font-size:2em\"><span style=\"font-weight:bolder;font-size:1.25em\">SP2273 | Learning Portfolio</span><br><br><span style=\"font-weight:bold;color:darkred\">Loops (Need) Exercises</span></div>"
   ]
  },
  {
   "cell_type": "markdown",
   "id": "1d01f58e",
   "metadata": {},
   "source": [
    "## Exercise 1 "
   ]
  },
  {
   "cell_type": "code",
   "execution_count": 31,
   "id": "2d7a33b0",
   "metadata": {},
   "outputs": [
    {
     "name": "stdout",
     "output_type": "stream",
     "text": [
      "0C = 32.0F\n",
      "5C = 41.0F\n",
      "10C = 50.0F\n",
      "15C = 59.0F\n",
      "20C = 68.0F\n",
      "25C = 77.0F\n",
      "30C = 86.0F\n",
      "35C = 95.0F\n",
      "40C = 104.0F\n",
      "45C = 113.0F\n",
      "50C = 122.0F\n"
     ]
    }
   ],
   "source": [
    "temperatures_celsius = [\n",
    "    0, 5, 10, 15, 20, 25,\n",
    "    30, 35, 40, 45, 50\n",
    "]\n",
    "\n",
    "temperatures_fahrenheit = [(c * 9/5) + 32 for c in temperatures_celsius]\n",
    "\n",
    "for c, f in zip(temperatures_celsius, temperatures_fahrenheit):\n",
    "    print(f'{c}C = {f}F')\n",
    "    n += 1"
   ]
  },
  {
   "cell_type": "markdown",
   "id": "f6c29dd3",
   "metadata": {},
   "source": [
    "## Exercise 2"
   ]
  },
  {
   "cell_type": "code",
   "execution_count": 55,
   "id": "39709cef",
   "metadata": {},
   "outputs": [
    {
     "name": "stdout",
     "output_type": "stream",
     "text": [
      "1 :\t1\t2\t3\t4\t5\t\n",
      "\n",
      "2 :\t2\t4\t6\t8\t10\t\n",
      "\n",
      "3 :\t3\t6\t9\t12\t15\t\n",
      "\n",
      "4 :\t4\t8\t12\t16\t20\t\n",
      "\n",
      "5 :\t5\t10\t15\t20\t25\t\n",
      "\n"
     ]
    }
   ],
   "source": [
    "numbers = [1, 2, 3, 4, 5]\n",
    "factors = [1, 2, 3, 4, 5]\n",
    "count = 0\n",
    "for n in numbers:\n",
    "    count += 1\n",
    "    print(f'{count}' , ':', end='\\t')\n",
    "    for c in factors:\n",
    "        print(f'{n*c}', end='\\t')\n",
    "    print('\\n')\n",
    "    \n"
   ]
  },
  {
   "cell_type": "markdown",
   "id": "c146aeb8",
   "metadata": {},
   "source": [
    "## Exercise 3"
   ]
  },
  {
   "cell_type": "code",
   "execution_count": 94,
   "id": "c445fcb4",
   "metadata": {},
   "outputs": [
    {
     "name": "stdout",
     "output_type": "stream",
     "text": [
      "Experiment 1: No. of heads = 3\n",
      "Experiment 2: No. of heads = 4\n",
      "Experiment 3: No. of heads = 5\n",
      "Experiment 4: No. of heads = 7\n",
      "Experiment 5: No. of heads = 8\n",
      "Experiment 6: No. of heads = 5\n",
      "Experiment 7: No. of heads = 7\n",
      "Experiment 8: No. of heads = 6\n",
      "Experiment 9: No. of heads = 2\n",
      "Experiment 10: No. of heads = 3\n"
     ]
    }
   ],
   "source": [
    "import numpy as np\n",
    "\n",
    "for count in range(1,11):\n",
    "    coin = np.random.rand(10)\n",
    "    mask = [c > 0.5 for c in coin]\n",
    "    coin[mask].sum()\n",
    "    print(f'Experiment {count}: No. of heads = {sum(mask)}')\n",
    "    "
   ]
  }
 ],
 "metadata": {
  "kernelspec": {
   "display_name": "base",
   "language": "python",
   "name": "python3"
  },
  "language_info": {
   "codemirror_mode": {
    "name": "ipython",
    "version": 3
   },
   "file_extension": ".py",
   "mimetype": "text/x-python",
   "name": "python",
   "nbconvert_exporter": "python",
   "pygments_lexer": "ipython3",
   "version": "3.13.5"
  },
  "toc": {
   "base_numbering": 1,
   "nav_menu": {},
   "number_sections": true,
   "sideBar": true,
   "skip_h1_title": false,
   "title_cell": "Table of Contents",
   "title_sidebar": "Contents",
   "toc_cell": false,
   "toc_position": {},
   "toc_section_display": true,
   "toc_window_display": false
  }
 },
 "nbformat": 4,
 "nbformat_minor": 5
}
