{
 "cells": [
  {
   "attachments": {},
   "cell_type": "markdown",
   "id": "123456",
   "metadata": {},
   "source": [
    "<div style=\"text-align:left;font-size:2em\"><span style=\"font-weight:bolder;font-size:1.25em\">SP2273 | Learning Portfolio</span><br><br><span style=\"font-weight:bold;color:darkred\">Using Jupyter (Need), Exercises</span></div>"
   ]
  },
  {
   "attachments": {},
   "cell_type": "markdown",
   "id": "123456",
   "metadata": {},
   "source": [
    "## 1 Quadratic Equations"
   ]
  },
  {
   "attachments": {},
   "cell_type": "markdown",
   "id": "123456",
   "metadata": {},
   "source": [
    "### Introduction"
   ]
  },
  {
   "cell_type": "markdown",
   "id": "123456",
   "metadata": {},
   "source": [
    "\n",
    "![](https://upload.wikimedia.org/wikipedia/commons/thumb/f/f8/Polynomialdeg2.svg/450px-Polynomialdeg2.svg.png)\n",
    "\n",
    "(Image from the [Wikipedia page on Quadratic equations](https://en.wikipedia.org/wiki/Quadratic_equation))\n",
    "\n",
    "The general form of a quadratic equation is:\n",
    "$$\n",
    "ax^{2}+bx+c=0\n",
    "$$"
   ]
  },
  {
   "attachments": {},
   "cell_type": "markdown",
   "id": "123456",
   "metadata": {},
   "source": [
    "### Solutions"
   ]
  },
  {
   "cell_type": "markdown",
   "id": "123456",
   "metadata": {},
   "source": [
    "Provided $a\\ne 0$, we can use an elementary algebraic method called [completing the square](https://en.wikipedia.org/wiki/Completing_the_square) to show that a quadratic equation has the following solution: \n",
    "$$\n",
    "x=\\dfrac{-b\\pm\\sqrt{b^{2}-4ac}}{2a}\n",
    "$$"
   ]
  },
  {
   "attachments": {},
   "cell_type": "markdown",
   "id": "123456",
   "metadata": {},
   "source": [
    "### Discriminant"
   ]
  },
  {
   "cell_type": "markdown",
   "id": "123456",
   "metadata": {},
   "source": [
    "The quantity $\\triangle=b^{2}-4ac$ is called the **discriminant** of the equation and decides the nature of its solutions. The table below shows the various possibilities. \n",
    "\n",
    " **Discriminant** | **Roots** \n",
    " :---------------: | :--------: \n",
    " $\\triangle=b^{2}-4ac=0$ | A single solution of $-b/2a$ \n",
    " $\\triangle=b^{2}-4ac>0$ | Two distinct solutions\n",
    " $\\triangle=b^{2}-4ac<0$ | No real solutions; both are complex. "
   ]
  },
  {
   "cell_type": "markdown",
   "id": "9f66952d",
   "metadata": {},
   "source": [
    "## Exercise 2\n",
    "\n",
    "1. It is a station to upload and store files on cloud which allows tutors to check the progress of the students. \n",
    "2. Git keeps track of <u>changes</u> in the files in our repository. \n",
    "3. Commit is an action to update the changes and save it on our GitHub Desktop. \n",
    "4. Push is to upload the changes to the cloud for others to see. \n",
    "5. Pull is to download the files from the cloud to the GitHub desktop. \n",
    "6. GitHub stores files on the cloud such that everyone can see the files, whereas GitHub Desktop stores files locally on our devices and only the user of the devices can see and edit the files. "
   ]
  },
  {
   "cell_type": "markdown",
   "id": "be41f8e8",
   "metadata": {},
   "source": [
    "## Exercise 3\n",
    "\n",
    "$$\n",
    "\\mu=\\dfrac{1}{n}\\sum_{i=1}^{n} x_i\n",
    "$$\n",
    "\n",
    "\n",
    "$$\n",
    "\\sigma=\\sqrt{\\dfrac{1}{n}\\sum_{i=1}^{n} (x_i -\\mu)^2}\n",
    "$$\n",
    "\n",
    "\n",
    "$$\n",
    "r=\\dfrac{\\sum_{i=1}^{n} (x_i -\\mu_x)(y_i -\\mu_y)}{\\sqrt{\\sum_{i=1}^{n} (x_i -\\mu_x)^2 \\sum_{i=1}^{n} (y_i -\\mu_y)^2}}\n",
    "$$"
   ]
  }
 ],
 "metadata": {
  "kernelspec": {
   "display_name": "Python 3",
   "language": "python",
   "name": "python3"
  },
  "language_info": {
   "codemirror_mode": {
    "name": "ipython",
    "version": 3
   },
   "file_extension": ".py",
   "mimetype": "text/x-python",
   "name": "python",
   "nbconvert_exporter": "python",
   "pygments_lexer": "ipython3",
   "version": "3.10.6 (main, Nov 14 2022, 16:10:14) [GCC 11.3.0]"
  },
  "toc": {
   "base_numbering": 1,
   "nav_menu": {},
   "number_sections": true,
   "sideBar": true,
   "skip_h1_title": false,
   "title_cell": "Table of Contents",
   "title_sidebar": "Contents",
   "toc_cell": false,
   "toc_position": {},
   "toc_section_display": true,
   "toc_window_display": false
  },
  "vscode": {
   "interpreter": {
    "hash": "31f2aee4e71d21fbe5cf8b01ff0e069b9275f58929596ceb00d14d90e3e16cd6"
   }
  }
 },
 "nbformat": 4,
 "nbformat_minor": 5
}
