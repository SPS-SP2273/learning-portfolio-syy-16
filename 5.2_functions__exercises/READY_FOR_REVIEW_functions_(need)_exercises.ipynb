{
 "cells": [
  {
   "attachments": {},
   "cell_type": "markdown",
   "id": "123456",
   "metadata": {},
   "source": [
    "<div style=\"text-align:left;font-size:2em\"><span style=\"font-weight:bolder;font-size:1.25em\">SP2273 | Learning Portfolio</span><br><br><span style=\"font-weight:bold;color:darkred\">Functions (Need) Exercises</span></div>"
   ]
  },
  {
   "cell_type": "markdown",
   "id": "a0fac2db",
   "metadata": {},
   "source": [
    "## Exercise 1"
   ]
  },
  {
   "cell_type": "markdown",
   "id": "d62ad433",
   "metadata": {},
   "source": [
    "This is because the 'if' statement was used to check if name is batman. In cases where name is not batman, they are covered under the default 'greeting' function, which was defined. Therefore, else is not needed."
   ]
  },
  {
   "cell_type": "markdown",
   "id": "19d35f42",
   "metadata": {},
   "source": [
    "## Exercise 2"
   ]
  },
  {
   "cell_type": "code",
   "execution_count": 18,
   "id": "3caeb27e",
   "metadata": {},
   "outputs": [
    {
     "name": "stdout",
     "output_type": "stream",
     "text": [
      "Your BMI is: 24.91, you are normal weight.\n"
     ]
    }
   ],
   "source": [
    "def calculate_bmi(weight, height):\n",
    "    BMI = weight / (height ** 2)\n",
    "    \n",
    "    if BMI < 18.5:  \n",
    "        print(f'Your BMI is: {BMI:.2f}, you are underweight.')\n",
    "    elif 18.5 <= BMI <25:\n",
    "        print(f'Your BMI is: {BMI:.2f}, you are normal weight.')\n",
    "    elif 25 <= BMI <30:\n",
    "        print(f'Your BMI is: {BMI:.2f}, you are overweight.')\n",
    "    elif BMI >= 30:\n",
    "        print(f'Your BMI is: {BMI:.2f}, you are obese.')\n",
    "    \n",
    "\n",
    "try:\n",
    "    weight = float(input('Please enter your weight in kg'))\n",
    "    height = float(input('Please enter your height in meters'))\n",
    "    calculate_bmi(weight, height)\n",
    "\n",
    "except:\n",
    "    print('Please enter valid weight and height.')"
   ]
  },
  {
   "cell_type": "markdown",
   "id": "5acf6087",
   "metadata": {},
   "source": [
    "## Exercise 3"
   ]
  },
  {
   "cell_type": "code",
   "execution_count": 43,
   "id": "a1859446",
   "metadata": {},
   "outputs": [
    {
     "name": "stdout",
     "output_type": "stream",
     "text": [
      "The factorial of 6 is 720.\n"
     ]
    }
   ],
   "source": [
    "def factorial(number):\n",
    "    result = 1\n",
    "    for n in range(1, number + 1): \n",
    "        result *= n\n",
    "    print(f'The factorial of {number} is {result}.')\n",
    "    \n",
    "try:\n",
    "    number = int(input('Please enter a number'))\n",
    "    if number < 0:\n",
    "        print('Please enter a positive integer.')\n",
    "    else:\n",
    "        factorial(number)\n",
    "    \n",
    "except:\n",
    "    print('Please enter a positive integer.')"
   ]
  }
 ],
 "metadata": {
  "kernelspec": {
   "display_name": "base",
   "language": "python",
   "name": "python3"
  },
  "language_info": {
   "codemirror_mode": {
    "name": "ipython",
    "version": 3
   },
   "file_extension": ".py",
   "mimetype": "text/x-python",
   "name": "python",
   "nbconvert_exporter": "python",
   "pygments_lexer": "ipython3",
   "version": "3.13.5"
  },
  "toc": {
   "base_numbering": 1,
   "nav_menu": {},
   "number_sections": true,
   "sideBar": true,
   "skip_h1_title": false,
   "title_cell": "Table of Contents",
   "title_sidebar": "Contents",
   "toc_cell": false,
   "toc_position": {},
   "toc_section_display": true,
   "toc_window_display": false
  }
 },
 "nbformat": 4,
 "nbformat_minor": 5
}
