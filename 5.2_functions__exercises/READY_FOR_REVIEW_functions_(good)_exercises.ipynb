{
 "cells": [
  {
   "attachments": {},
   "cell_type": "markdown",
   "id": "123456",
   "metadata": {},
   "source": [
    "<div style=\"text-align:left;font-size:2em\"><span style=\"font-weight:bolder;font-size:1.25em\">SP2273 | Learning Portfolio</span><br><br><span style=\"font-weight:bold;color:darkred\">Functions (Good) Exercises</span></div>"
   ]
  },
  {
   "cell_type": "markdown",
   "id": "08f6d61b",
   "metadata": {},
   "source": [
    "## Exercise 1"
   ]
  },
  {
   "cell_type": "code",
   "execution_count": 23,
   "id": "2e293b37",
   "metadata": {},
   "outputs": [
    {
     "name": "stdout",
     "output_type": "stream",
     "text": [
      "12.0 degree celcius is equal to 53.6 degree Fahrenheit.\n"
     ]
    }
   ],
   "source": [
    "def convert_celsius(temperature_celsius, target_scale):\n",
    "    if target_scale.lower() in ['kelvin', 'k']:\n",
    "        outcome_1 = temperature_celsius + 273.15\n",
    "        print(f'{temperature_celsius} degree celcius is equal to {outcome_1}K. ')\n",
    "    else: \n",
    "        outcome_1 = (temperature_celsius * 9 / 5) + 32\n",
    "        print(f'{temperature_celsius} degree celcius is equal to {outcome_1} degree Fahrenheit.')\n",
    "\n",
    "try:\n",
    "    temperature_celsius = float(input('Please enter a temperature in celsius'))\n",
    "    target_scale = input('Please input your target scale')\n",
    "    convert_celsius(temperature_celsius, target_scale)\n",
    "except ValueError:\n",
    "    print('Please enter a numerical value for temperature')"
   ]
  },
  {
   "cell_type": "markdown",
   "id": "e3629418",
   "metadata": {},
   "source": [
    "## Exercise 2"
   ]
  },
  {
   "cell_type": "code",
   "execution_count": 22,
   "id": "0cf71b21",
   "metadata": {},
   "outputs": [
    {
     "name": "stdout",
     "output_type": "stream",
     "text": [
      "32.0 degree fahrenheit is equal to 0.00 degree celsius.\n"
     ]
    }
   ],
   "source": [
    "def convert_fahrenheit(temperature_fahrenheit, target_scale):\n",
    "    if target_scale.lower() in ['kelvin', 'k']:\n",
    "        outcome_2 = (temperature_fahrenheit - 32) * 5 / 9 + 273.15\n",
    "        print(f'{temperature_fahrenheit} degree fahrenheit is equal to {outcome_2:.2f}K. ')\n",
    "    else: \n",
    "        outcome_2 = (temperature_fahrenheit - 32) * 5 / 9\n",
    "        print(f'{temperature_fahrenheit} degree fahrenheit is equal to {outcome_2:.2f} degree celsius.')\n",
    "\n",
    "try:\n",
    "    temperature_fahrenheit = float(input('Please enter a temperature in fahrenheit'))\n",
    "    target_scale = input('Please input your target scale')\n",
    "    convert_fahrenheit(temperature_fahrenheit, target_scale)\n",
    "except ValueError:\n",
    "    print('Please enter a numerical value for temperature')"
   ]
  },
  {
   "cell_type": "markdown",
   "id": "756aecad",
   "metadata": {},
   "source": [
    "## Exercise 3"
   ]
  },
  {
   "cell_type": "code",
   "execution_count": 30,
   "id": "c49c4360",
   "metadata": {},
   "outputs": [
    {
     "name": "stdout",
     "output_type": "stream",
     "text": [
      "Please enter an appropriate target scale.\n"
     ]
    }
   ],
   "source": [
    "def convert_temperature(temperature, source_scale, target_scale):\n",
    "    if source_scale.lower() in ['c', 'celsius']:\n",
    "        convert_celsius(temperature, target_scale)\n",
    "    \n",
    "    elif source_scale.lower() in ['f','fahrenheit']:\n",
    "        convert_fahrenheit(temperature, target_scale)\n",
    "    \n",
    "    elif source_scale.lower() in ['k', 'kelvin']:\n",
    "        \n",
    "        if target_scale.lower() in ['c', 'celsius']:\n",
    "            outcome_3 = temperature - 273.15\n",
    "            print(f'{temperature}K is equal to {outcome_3:.2f} degree celsius.')\n",
    "        \n",
    "        elif target_scale.lower() in ['f', 'fahrenheit']:\n",
    "            outcome_3 = ((temperature - 273.15) * 9 / 5) + 32\n",
    "            print(f'{temperature}K is equal to {outcome_3:.2f} degree fahrenheit.')\n",
    "        \n",
    "        else:\n",
    "            print('Please enter an appropriate target scale.')\n",
    "    else: \n",
    "        print('Please enter an appropriate source scale.')\n",
    "\n",
    "try:\n",
    "    temperature = float(input('Please enter a temperature'))\n",
    "    source_scale = input('Please enter your source scale')\n",
    "    target_scale = input('Please enter your target scale. ')\n",
    "    convert_temperature(temperature, source_scale, target_scale)\n",
    "except ValueError:\n",
    "    print('Please enter an appropriate temperature.')\n",
    "        "
   ]
  }
 ],
 "metadata": {
  "kernelspec": {
   "display_name": "base",
   "language": "python",
   "name": "python3"
  },
  "language_info": {
   "codemirror_mode": {
    "name": "ipython",
    "version": 3
   },
   "file_extension": ".py",
   "mimetype": "text/x-python",
   "name": "python",
   "nbconvert_exporter": "python",
   "pygments_lexer": "ipython3",
   "version": "3.13.5"
  },
  "toc": {
   "base_numbering": 1,
   "nav_menu": {},
   "number_sections": true,
   "sideBar": true,
   "skip_h1_title": false,
   "title_cell": "Table of Contents",
   "title_sidebar": "Contents",
   "toc_cell": false,
   "toc_position": {},
   "toc_section_display": true,
   "toc_window_display": false
  }
 },
 "nbformat": 4,
 "nbformat_minor": 5
}
