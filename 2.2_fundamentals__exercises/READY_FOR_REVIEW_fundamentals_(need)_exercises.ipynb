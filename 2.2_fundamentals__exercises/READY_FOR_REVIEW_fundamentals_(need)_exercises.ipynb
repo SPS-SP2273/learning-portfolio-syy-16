{
 "cells": [
  {
   "attachments": {},
   "cell_type": "markdown",
   "id": "123456",
   "metadata": {},
   "source": [
    "<div style=\"text-align:left;font-size:2em\"><span style=\"font-weight:bolder;font-size:1.25em\">SP2273 | Learning Portfolio</span><br><br><span style=\"font-weight:bold;color:darkred\">Fundamentals (Need) Exercises</span></div>"
   ]
  },
  {
   "cell_type": "markdown",
   "id": "dc38b916",
   "metadata": {},
   "source": [
    "### Exercise 1\n",
    "\n",
    "1. List the Python features.  \n",
    "    - Python is sensitive to case\n",
    "    - Python is interpreted\n",
    "    - Python can be used to check mathematics equations by using '=='\n",
    "    - Python is sensitive to spaces and indentations\n",
    "    - *We can use '#' to insert comment in our codes.*\n",
    "    - *Using if to make decisions*\n",
    "    - *'age' is English, while age is a variable*\n",
    "    - *Python uses all three types of brackets, (), [] and {} for different uses.*\n",
    "    - *We can import packages to add more functions to Python.*\n",
    "    - *We use a dot, (.), to indicate ownership of a function.*"
   ]
  },
  {
   "cell_type": "markdown",
   "id": "afbc3fe1",
   "metadata": {},
   "source": [
    "### Exercise 2"
   ]
  },
  {
   "cell_type": "code",
   "execution_count": 21,
   "id": "3ad0bf81",
   "metadata": {},
   "outputs": [
    {
     "name": "stdout",
     "output_type": "stream",
     "text": [
      "3 4 5.0\n"
     ]
    }
   ],
   "source": [
    "x, y = 3, 4\n",
    "z = math.sqrt(x**2 + y**2)\n",
    "print(x, y, z)"
   ]
  },
  {
   "cell_type": "markdown",
   "id": "7d1b083e",
   "metadata": {},
   "source": [
    "### Exercise 3"
   ]
  },
  {
   "cell_type": "markdown",
   "id": "1289efcf",
   "metadata": {},
   "source": [
    "| #  | Term         | Description                                                                                                                          |\n",
    "|----|--------------|--------------------------------------------------------------------------------------------------------------------------------------|\n",
    "| 1  | Function     | Function is something in Python that executes the command, often followed by a pair of parentheses to include the arguments.         |\n",
    "| 2  | Arguments    | Arguments are elements in the parentheses followed by a function, allowing the function to execute the task accurately.              |\n",
    "| 3  | Comments     | Comments are used within codes for coders to take notes, and these notes will not be shown in the final product of the codes.        |\n",
    "| 4  | Indentations | Indentations are spaces before lines of codes to separate the 'TRUE' or 'FALSE' when using the 'if' function.                        |\n",
    "| 5  | Packages     | Packages are external bundle of functions that can be imported to Python to enhance the capability of Python.                        |\n",
    "| 6  | .            | The dot, (.), is used to indicate ownership of a function to a certain package, so that Python can execute the function accurately.  |\n",
    "| 7  | :            | The colon, (:), is used to define the block of codes, usually used after 'if' and 'else'.                                            |\n",
    "| 8  | [ ]           | These brackets are used to indicate a list of data.                                                                                  |\n",
    "| 9  |  [ [ ],[ ] ]      | These brackets are used to indicate two different lists of data within a big list of data.                                           |\n",
    "| 10 | { }           | These brackets are used to store data into the variables.                                                                       |"
   ]
  },
  {
   "cell_type": "markdown",
   "id": "c4b7a796",
   "metadata": {},
   "source": [
    "### Exercise 4"
   ]
  },
  {
   "cell_type": "code",
   "execution_count": 30,
   "id": "339ab301",
   "metadata": {},
   "outputs": [
    {
     "data": {
      "text/plain": [
       "2.5"
      ]
     },
     "execution_count": 30,
     "metadata": {},
     "output_type": "execute_result"
    }
   ],
   "source": [
    "5/2           # It gives the exact quotient of the mathematical expression. "
   ]
  },
  {
   "cell_type": "code",
   "execution_count": 52,
   "id": "33739455",
   "metadata": {},
   "outputs": [
    {
     "data": {
      "text/plain": [
       "2"
      ]
     },
     "execution_count": 52,
     "metadata": {},
     "output_type": "execute_result"
    }
   ],
   "source": [
    "5//2          # It only gives the integer part of the quotient as the answer by disregarding all the decimals. "
   ]
  },
  {
   "cell_type": "code",
   "execution_count": 51,
   "id": "9840ab58",
   "metadata": {},
   "outputs": [
    {
     "data": {
      "text/plain": [
       "1"
      ]
     },
     "execution_count": 51,
     "metadata": {},
     "output_type": "execute_result"
    }
   ],
   "source": [
    "5%2           # It gives the number of decimal places of the quotient, and it gives the answer '1' to irrational or recurring decimals. "
   ]
  }
 ],
 "metadata": {
  "kernelspec": {
   "display_name": "base",
   "language": "python",
   "name": "python3"
  },
  "language_info": {
   "codemirror_mode": {
    "name": "ipython",
    "version": 3
   },
   "file_extension": ".py",
   "mimetype": "text/x-python",
   "name": "python",
   "nbconvert_exporter": "python",
   "pygments_lexer": "ipython3",
   "version": "3.13.5"
  },
  "toc": {
   "base_numbering": 1,
   "nav_menu": {},
   "number_sections": true,
   "sideBar": true,
   "skip_h1_title": false,
   "title_cell": "Table of Contents",
   "title_sidebar": "Contents",
   "toc_cell": false,
   "toc_position": {},
   "toc_section_display": true,
   "toc_window_display": false
  }
 },
 "nbformat": 4,
 "nbformat_minor": 5
}
