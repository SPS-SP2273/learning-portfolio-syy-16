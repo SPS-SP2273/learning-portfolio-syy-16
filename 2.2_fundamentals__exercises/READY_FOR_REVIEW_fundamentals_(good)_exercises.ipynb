{
 "cells": [
  {
   "attachments": {},
   "cell_type": "markdown",
   "id": "123456",
   "metadata": {},
   "source": [
    "<div style=\"text-align:left;font-size:2em\"><span style=\"font-weight:bolder;font-size:1.25em\">SP2273 | Learning Portfolio</span><br><br><span style=\"font-weight:bold;color:darkred\">Fundamentals (Good) Exercises</span></div>"
   ]
  },
  {
   "cell_type": "markdown",
   "id": "a68c944d",
   "metadata": {},
   "source": [
    "## Exercise 1"
   ]
  },
  {
   "cell_type": "markdown",
   "id": "60f52534",
   "metadata": {},
   "source": [
    "### Task 1"
   ]
  },
  {
   "cell_type": "code",
   "execution_count": null,
   "id": "796f042d",
   "metadata": {},
   "outputs": [],
   "source": [
    "name = input('What is your name?')\n",
    "print(f'How you doin {name.upper()}!')"
   ]
  },
  {
   "cell_type": "markdown",
   "id": "fab97732",
   "metadata": {},
   "source": [
    "### Task 2"
   ]
  },
  {
   "cell_type": "code",
   "execution_count": null,
   "id": "7d0cd1b2",
   "metadata": {},
   "outputs": [],
   "source": [
    "name = input('What is your name?')\n",
    "age = input('What is your age?')\n",
    "\n",
    "print(f'My name is {name.upper()} and I am {age} years old.')"
   ]
  },
  {
   "cell_type": "markdown",
   "id": "acdddbfe",
   "metadata": {},
   "source": [
    "### Task 3"
   ]
  },
  {
   "cell_type": "code",
   "execution_count": 11,
   "id": "984cf93f",
   "metadata": {},
   "outputs": [
    {
     "name": "stdout",
     "output_type": "stream",
     "text": [
      "The value of pi to 2 decimal places is: 3.14\n",
      "The value of pi to 3 decimal places is: 3.142\n",
      "The value of pi to 4 decimal places is: 3.1416\n"
     ]
    }
   ],
   "source": [
    "pi = 3.141592653589793\n",
    "\n",
    "print(f'The value of pi to 2 decimal places is: {pi:.2f}')\n",
    "print(f'The value of pi to 3 decimal places is: {pi:.3f}')\n",
    "print(f'The value of pi to 4 decimal places is: {pi:.4f}')"
   ]
  },
  {
   "cell_type": "markdown",
   "id": "2302909a",
   "metadata": {},
   "source": [
    "### Task 4"
   ]
  },
  {
   "cell_type": "code",
   "execution_count": 17,
   "id": "c3edbacc",
   "metadata": {},
   "outputs": [
    {
     "name": "stdout",
     "output_type": "stream",
     "text": [
      "Apple      $0.99\n",
      "Banana     $0.59\n",
      "Orange     $1.29\n"
     ]
    }
   ],
   "source": [
    "Apple = '$0.99'\n",
    "Banana = '$0.59'\n",
    "Orange = '$1.29'\n",
    "\n",
    "print(f'{'Apple':<10} {Apple:>5}')\n",
    "print(f'{'Banana':<10} {Banana:>5}')\n",
    "print(f'{'Orange':<10} {Orange:>5}')"
   ]
  },
  {
   "cell_type": "markdown",
   "id": "026b070a",
   "metadata": {},
   "source": [
    "## Exercise 2"
   ]
  },
  {
   "cell_type": "code",
   "execution_count": 7,
   "id": "5b7691cf",
   "metadata": {},
   "outputs": [
    {
     "name": "stdout",
     "output_type": "stream",
     "text": [
      "Please input an appropriate score.\n"
     ]
    }
   ],
   "source": [
    "score = input('What is your score?')\n",
    "if score.isnumeric():\n",
    "    numeric_score = float(score)\n",
    "    if  70 <= numeric_score <=100: \n",
    "        print('The student\\'s letter grade is: A')\n",
    "    elif 50 <= numeric_score < 70:\n",
    "        print('The student\\'s letter grade is: B')\n",
    "    elif 35 <= numeric_score < 50:\n",
    "        print('The student\\'s letter grade is: C')\n",
    "    elif 0 <= numeric_score < 35:\n",
    "        print('You FAILED!')\n",
    "    else:\n",
    "        print('Please input an appropriate score. ')\n",
    "else:\n",
    "    print('Please input an appropriate score.')\n",
    "\n",
    "\n"
   ]
  },
  {
   "cell_type": "markdown",
   "id": "1020b248",
   "metadata": {},
   "source": [
    "## Exercise 3"
   ]
  },
  {
   "cell_type": "code",
   "execution_count": 84,
   "id": "71d751dd",
   "metadata": {},
   "outputs": [
    {
     "name": "stdout",
     "output_type": "stream",
     "text": [
      "120\n",
      "Invalid input\n"
     ]
    }
   ],
   "source": [
    "def factorial(n):\n",
    "    if n < 0:\n",
    "        return \"Invalid input\"\n",
    "    elif n == 0:\n",
    "        return 1\n",
    "    else:\n",
    "        result = 1\n",
    "        for number in range(1, n+1):\n",
    "            result *= number\n",
    "        return result\n",
    "\n",
    "\n",
    "print(factorial(5))   # Testing, expected output: 120\n",
    "print(factorial(-1))  # Testing, expected output: Invalid input"
   ]
  }
 ],
 "metadata": {
  "kernelspec": {
   "display_name": "base",
   "language": "python",
   "name": "python3"
  },
  "language_info": {
   "codemirror_mode": {
    "name": "ipython",
    "version": 3
   },
   "file_extension": ".py",
   "mimetype": "text/x-python",
   "name": "python",
   "nbconvert_exporter": "python",
   "pygments_lexer": "ipython3",
   "version": "3.13.5"
  },
  "toc": {
   "base_numbering": 1,
   "nav_menu": {},
   "number_sections": true,
   "sideBar": true,
   "skip_h1_title": false,
   "title_cell": "Table of Contents",
   "title_sidebar": "Contents",
   "toc_cell": false,
   "toc_position": {},
   "toc_section_display": true,
   "toc_window_display": false
  }
 },
 "nbformat": 4,
 "nbformat_minor": 5
}
