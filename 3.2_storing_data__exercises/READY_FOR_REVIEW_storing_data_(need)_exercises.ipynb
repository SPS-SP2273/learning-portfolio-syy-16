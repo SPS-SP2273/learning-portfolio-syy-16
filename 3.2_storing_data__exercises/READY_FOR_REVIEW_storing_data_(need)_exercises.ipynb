{
 "cells": [
  {
   "attachments": {},
   "cell_type": "markdown",
   "id": "123456",
   "metadata": {},
   "source": [
    "<div style=\"text-align:left;font-size:2em\"><span style=\"font-weight:bolder;font-size:1.25em\">SP2273 | Learning Portfolio</span><br><br><span style=\"font-weight:bold;color:darkred\">Storing Data (Need) Exercises</span></div>"
   ]
  },
  {
   "cell_type": "markdown",
   "id": "29022ec4",
   "metadata": {},
   "source": [
    "## Exercise 1"
   ]
  },
  {
   "cell_type": "markdown",
   "id": "fe94d2b0",
   "metadata": {
    "vscode": {
     "languageId": "plaintext"
    }
   },
   "source": [
    "1. 2 similarities between lists and arrays\n",
    "    - They both store data. \n",
    "    - *The order of element matters in both lists and arrays.*\n",
    "\n",
    "2. 2 differences between lists and arrays\n",
    "    - List remember the data as a whole block while array remembers the data by elements in the block. \n",
    "    - List can have several types of data in a block, while array can only have one type of data in a block. \n",
    "\n",
    "3. What is a dictionary\n",
    "    - Dictionary is another way to store data. *The dictionary holds 2 sets of data in one structure while we need two lists or arrays for the same data.*\n"
   ]
  },
  {
   "cell_type": "markdown",
   "id": "cdc147cd",
   "metadata": {
    "vscode": {
     "languageId": "plaintext"
    }
   },
   "source": [
    "## Exercise 2"
   ]
  },
  {
   "cell_type": "code",
   "execution_count": 2,
   "id": "26f7adb4",
   "metadata": {},
   "outputs": [
    {
     "name": "stdout",
     "output_type": "stream",
     "text": [
      "['a1', 'c3', 'e5', 'g7', 'i9']\n"
     ]
    }
   ],
   "source": [
    "py_list = [\"a1\", \"b2\", \"c3\", \"d4\", \"e5\", \"f6\", \"g7\", \"h8\", \"i9\", \"j10\"]\n",
    "                    # Prints 'a1'\n",
    "                    # Prints 'c3'\n",
    "                    # Prints 'e5'\n",
    "                    # Prints 'g7'\n",
    "print(py_list[::2])   # Prints 'i9'"
   ]
  },
  {
   "cell_type": "markdown",
   "id": "e83d5ae0",
   "metadata": {},
   "source": [
    "## Exercise 3"
   ]
  },
  {
   "cell_type": "code",
   "execution_count": 5,
   "id": "ffe789c9",
   "metadata": {},
   "outputs": [
    {
     "name": "stdout",
     "output_type": "stream",
     "text": [
      "Beryllium\n",
      "Nitrogen\n"
     ]
    }
   ],
   "source": [
    "elements = ['Hydrogen',\n",
    "            'Helium', 'Lithium',\n",
    "            'Beryllium', 'Boron', 'Carbon',\n",
    "            'Nitrogen', 'Oxygen',\n",
    "            'Fluorine',\n",
    "            'Neon']\n",
    "\n",
    "print(elements[3])\n",
    "print(elements[-4])"
   ]
  },
  {
   "cell_type": "markdown",
   "id": "c5aa083e",
   "metadata": {},
   "source": [
    "## Exercise 4"
   ]
  },
  {
   "cell_type": "code",
   "execution_count": 17,
   "id": "a1b1d4dc",
   "metadata": {},
   "outputs": [
    {
     "name": "stdout",
     "output_type": "stream",
     "text": [
      "9\n"
     ]
    }
   ],
   "source": [
    "numbers=[45, 60, 1, 30, 96, 1, 96, 57, 16, 1,\n",
    "        99, 62, 86, 43, 42, 60, 59, 1, 1, 35,\n",
    "        83, 47, 34, 28, 68, 23, 22, 92, 1, 79,\n",
    "        1, 29, 94, 72, 46, 47, 1, 74, 32, 20,\n",
    "        8, 37, 35, 1, 89, 29, 86, 19, 43, 61]  \n",
    "\n",
    "import numpy as np\n",
    "numbers = np.array(numbers)\n",
    "mask = numbers == 1\n",
    "print(sum(mask))"
   ]
  },
  {
   "cell_type": "markdown",
   "id": "d83318dc",
   "metadata": {},
   "source": [
    "## Exercise 5"
   ]
  },
  {
   "cell_type": "code",
   "execution_count": 56,
   "id": "d7de9d57",
   "metadata": {},
   "outputs": [
    {
     "name": "stdout",
     "output_type": "stream",
     "text": [
      "The means of x_1 and x_2 are 38.5 and 302.5 respectively.\n",
      "The standard deviation of x_1 and x_2 are 32.41990129534635 and 326.0893282522444 respectively.\n",
      "The Pearson correlation coefficient r for the two datasets is 0.9935691534196651\n",
      "The Pearson correlation coefficient r for the two datasets, by using np.corrcoef, is 0.9871796626270701 which is lower than the calculated value.\n"
     ]
    }
   ],
   "source": [
    "x_1 = [1, 4, 9, 16, 25, 36, 49, 64, 81, 100]\n",
    "x_2 = [1, 8, 27, 64, 125, 216, 343, 512, 729, 1000]\n",
    "\n",
    "x_1 = np.array(x_1)\n",
    "x_2 = np.array(x_2)\n",
    "\n",
    "print('The means of x_1 and x_2 are', np.mean(x_1), 'and', np. mean(x_2), 'respectively.')\n",
    "print('The standard deviation of x_1 and x_2 are', np.std(x_1), 'and', np.std(x_2), 'respectively.')\n",
    "\n",
    "x_1_1 = x_1 - 38.5\n",
    "x_2_1 = x_2 - 302.5\n",
    "x_y = x_1_1 * x_2_1\n",
    "x_s = np.sum(x_y)\n",
    "x_1_2 = np.sum(x_1_1 ** 2)\n",
    "x_2_2 = np.sum(x_2_1 ** 2)\n",
    "x_d = np.sqrt(x_2_2 * x_1_2)\n",
    "print('The Pearson correlation coefficient r for the two datasets is', np.sqrt(x_s / x_d))\n",
    "\n",
    "print('The Pearson correlation coefficient r for the two datasets, by using np.corrcoef, is', np.corrcoef(x_1, x_2)[0,1], \n",
    "      'which is lower than the calculated value.')"
   ]
  }
 ],
 "metadata": {
  "kernelspec": {
   "display_name": "base",
   "language": "python",
   "name": "python3"
  },
  "language_info": {
   "codemirror_mode": {
    "name": "ipython",
    "version": 3
   },
   "file_extension": ".py",
   "mimetype": "text/x-python",
   "name": "python",
   "nbconvert_exporter": "python",
   "pygments_lexer": "ipython3",
   "version": "3.13.5"
  },
  "toc": {
   "base_numbering": 1,
   "nav_menu": {},
   "number_sections": true,
   "sideBar": true,
   "skip_h1_title": false,
   "title_cell": "Table of Contents",
   "title_sidebar": "Contents",
   "toc_cell": false,
   "toc_position": {},
   "toc_section_display": true,
   "toc_window_display": false
  }
 },
 "nbformat": 4,
 "nbformat_minor": 5
}
